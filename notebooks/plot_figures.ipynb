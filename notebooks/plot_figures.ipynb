{
 "cells": [
  {
   "cell_type": "markdown",
   "metadata": {},
   "source": [
    "# Plot results"
   ]
  },
  {
   "cell_type": "code",
   "execution_count": null,
   "metadata": {},
   "outputs": [],
   "source": [
    "import os, json\n",
    "import matplotlib.pyplot as plt\n",
    "import numpy as np"
   ]
  },
  {
   "cell_type": "code",
   "execution_count": null,
   "metadata": {},
   "outputs": [],
   "source": [
    "exp_folder = \"./../zoo/saxe2018iclr/mnist/fcn/20200419192953-tanh/\""
   ]
  },
  {
   "cell_type": "code",
   "execution_count": null,
   "metadata": {},
   "outputs": [],
   "source": [
    "config_file = os.path.join(exp_folder, \"config.json\")\n",
    "config = {}\n",
    "with open(config_file, \"r\") as f:\n",
    "    config = json.load(f)"
   ]
  },
  {
   "cell_type": "code",
   "execution_count": null,
   "metadata": {},
   "outputs": [],
   "source": [
    "epochs_run = 0\n",
    "with open(os.path.join(exp_folder, \"stats.json\"), \"r\") as f:\n",
    "    epochs_run = json.load(f)['epoch']"
   ]
  },
  {
   "cell_type": "code",
   "execution_count": null,
   "metadata": {},
   "outputs": [],
   "source": [
    "metrics = {}\n",
    "with open(os.path.join(exp_folder, \"metrics.json\"), \"r\") as f:\n",
    "    metrics = json.load(f)"
   ]
  },
  {
   "cell_type": "code",
   "execution_count": null,
   "metadata": {},
   "outputs": [],
   "source": [
    "log_file = os.path.join(exp_folder, \"mi_data.json\")\n",
    "mi_data = {}\n",
    "with open(log_file, \"r\") as f:\n",
    "    mi_data = json.load(f)"
   ]
  },
  {
   "cell_type": "code",
   "execution_count": null,
   "metadata": {},
   "outputs": [],
   "source": [
    "sm = plt.cm.ScalarMappable(cmap='gnuplot', norm=plt.Normalize(vmin=0, vmax=config['epochs']))\n",
    "sm._A = []\n",
    "\n",
    "# plot infoplane evolution\n",
    "n_layer_types = len(mi_data)\n",
    "fig, ax = plt.subplots(nrows=1, ncols=n_layer_types, figsize=(5*n_layer_types, 5))\n",
    "if n_layer_types == 1:\n",
    "    ax = [ax]\n",
    "ax = dict(zip(mi_data.keys(), ax))\n",
    "for layer_type, layer_data in mi_data.items():\n",
    "    for layer_name, mi_values in layer_data.items():\n",
    "        c = [sm.to_rgba(int(epoch)) for epoch in mi_values.keys()]\n",
    "        \n",
    "        mi = np.stack([mi_val for (_, mi_val) in mi_values.items()])\n",
    "        ax[layer_type].scatter(mi[:,0], mi[:,1], c=c)\n",
    "        \n",
    "    epochs = list(layer_data[next(iter(layer_data))].keys())\n",
    "    for epoch_idx in epochs:\n",
    "        x_data = []\n",
    "        y_data = []\n",
    "        for layer_name, mi_values in layer_data.items():\n",
    "            x_data.append(mi_values[epoch_idx][0])\n",
    "            y_data.append(mi_values[epoch_idx][1])\n",
    "        ax[layer_type].plot(x_data, y_data, c='k', alpha=0.1)\n",
    "    \n",
    "    ax[layer_type].set_title(layer_type)\n",
    "    ax[layer_type].grid()\n",
    "        \n",
    "cbaxes = fig.add_axes([1.0, 0.10, 0.05, 0.85])\n",
    "plt.colorbar(sm, label='Epoch', cax=cbaxes)\n",
    "plt.tight_layout()\n",
    "\n",
    "# plot layerwise\n",
    "for layer_type, layer_data in  mi_data.items():\n",
    "    if layer_data:\n",
    "        n_layers = len(layer_data)\n",
    "        fig, ax = plt.subplots(nrows=1, ncols=n_layers, figsize=(3*n_layers, 3))\n",
    "        ax = dict(zip(layer_data.keys(), ax))\n",
    "        for (layer_name, mi_values) in  layer_data.items():\n",
    "            c = [sm.to_rgba(int(epoch)) for epoch in mi_values.keys()]\n",
    "            \n",
    "            mi = np.stack([mi_val for (_, mi_val) in mi_values.items()])\n",
    "            ax[layer_name].scatter(mi[:,0], mi[:,1], c=c)\n",
    "            ax[layer_name].set_title(layer_name)\n",
    "            ax[layer_name].set_xlabel(\"I(T;X)\")\n",
    "            ax[layer_name].set_ylabel(\"I(T;Y)\")\n",
    "            ax[layer_name].grid()\n",
    "        cbaxes = fig.add_axes([1.0, 0.1, 0.01, 0.80])\n",
    "        plt.colorbar(sm, label='Epoch', cax=cbaxes)\n",
    "        plt.tight_layout()"
   ]
  },
  {
   "cell_type": "code",
   "execution_count": null,
   "metadata": {},
   "outputs": [],
   "source": [
    "epochs = metrics['epoch']\n",
    "metric_labels = [label for label in metrics.keys() if label != 'epoch' and not label.startswith(\"val_\")]\n",
    "\n",
    "fig, ax = plt.subplots(nrows=1, ncols=len(metric_labels), figsize=(5*len(metric_labels), 4))\n",
    "if len(ax) == 1:\n",
    "    ax = [ax]\n",
    "ax = dict(zip(metric_labels, ax))\n",
    "for label in metric_labels:\n",
    "    ax[label].plot(epochs, metrics[label])\n",
    "    if \"val_\"+label in metrics:\n",
    "        ax[label].plot(epochs, metrics[\"val_\"+label])\n",
    "    \n",
    "    ax[label].set_xlabel('epochs')\n",
    "    ax[label].set_title(label)\n",
    "    ax[label].grid()"
   ]
  },
  {
   "cell_type": "code",
   "execution_count": null,
   "metadata": {},
   "outputs": [],
   "source": []
  }
 ],
 "metadata": {
  "kernelspec": {
   "display_name": "Python 3",
   "language": "python",
   "name": "python3"
  },
  "language_info": {
   "codemirror_mode": {
    "name": "ipython",
    "version": 3
   },
   "file_extension": ".py",
   "mimetype": "text/x-python",
   "name": "python",
   "nbconvert_exporter": "python",
   "pygments_lexer": "ipython3",
   "version": "3.7.7"
  }
 },
 "nbformat": 4,
 "nbformat_minor": 4
}
